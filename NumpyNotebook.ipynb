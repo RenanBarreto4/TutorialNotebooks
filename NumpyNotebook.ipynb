{
  "nbformat": 4,
  "nbformat_minor": 0,
  "metadata": {
    "kernelspec": {
      "display_name": "Python 3",
      "language": "python",
      "name": "python3"
    },
    "language_info": {
      "codemirror_mode": {
        "name": "ipython",
        "version": 3
      },
      "file_extension": ".py",
      "mimetype": "text/x-python",
      "name": "python",
      "nbconvert_exporter": "python",
      "pygments_lexer": "ipython3",
      "version": "3.7.5"
    },
    "colab": {
      "name": "NumpyNotebook.ipynb",
      "provenance": [],
      "include_colab_link": true
    }
  },
  "cells": [
    {
      "cell_type": "markdown",
      "metadata": {
        "id": "view-in-github",
        "colab_type": "text"
      },
      "source": [
        "<a href=\"https://colab.research.google.com/github/RenanBarreto4/TutorialNotebooks/blob/master/NumpyNotebook.ipynb\" target=\"_parent\"><img src=\"https://colab.research.google.com/assets/colab-badge.svg\" alt=\"Open In Colab\"/></a>"
      ]
    },
    {
      "cell_type": "markdown",
      "metadata": {
        "id": "2dCVkQjtQ5Xp",
        "colab_type": "text"
      },
      "source": [
        "# Capacitação em Python - ICMC Júnior\n",
        "### Feito por: Renan Barreto\n",
        "### Documentação: https://numpy.org/doc/stable/reference/index.html\n",
        "### Baseado em: https://www.youtube.com/watch?v=GB9ByFAIAH4"
      ]
    },
    {
      "cell_type": "code",
      "metadata": {
        "id": "jocheXmWQ5Xt",
        "colab_type": "code",
        "colab": {
          "base_uri": "https://localhost:8080/",
          "height": 52
        },
        "outputId": "7263a2ff-c7bd-4983-fede-5d71d2a4b2c3"
      },
      "source": [
        "#importando numpy (caso tenha baixado o anaconda não é necessário instalar, caso estaja usando o colab não é necessário instalar)\n",
        "!pip install -U numpy    #atualizando biblioteca\n",
        "import numpy as np       #importando biblioteca\n",
        "print(np.__version__)    #notebook criado na versão 1.19.0"
      ],
      "execution_count": null,
      "outputs": [
        {
          "output_type": "stream",
          "text": [
            "Requirement already up-to-date: numpy in /usr/local/lib/python3.6/dist-packages (1.19.0)\n",
            "1.19.0\n"
          ],
          "name": "stdout"
        }
      ]
    },
    {
      "cell_type": "code",
      "metadata": {
        "id": "kfpBjdWQ4Ps1",
        "colab_type": "code",
        "colab": {
          "base_uri": "https://localhost:8080/",
          "height": 34
        },
        "outputId": "379040ea-834e-440b-e6c1-af0b883a77a9"
      },
      "source": [
        "x = np.array([2.9424093, 0.02205856, 1.17258737, 0.65801038, 0.05767281, 1.80856494, 1.46272305,\n",
        "0.06340856, 0.18869871, 0.43261435])\n",
        "np.mean(x)"
      ],
      "execution_count": null,
      "outputs": [
        {
          "output_type": "execute_result",
          "data": {
            "text/plain": [
              "0.880874803"
            ]
          },
          "metadata": {
            "tags": []
          },
          "execution_count": 12
        }
      ]
    },
    {
      "cell_type": "code",
      "metadata": {
        "id": "dsGwcsoB5OsP",
        "colab_type": "code",
        "colab": {
          "base_uri": "https://localhost:8080/",
          "height": 34
        },
        "outputId": "c23eacd3-1126-4a1c-f662-b84df237264d"
      },
      "source": [
        "y = np.array([1.87723042, 0.15694081, 2.54491421, 0.07972044, 0.41868954, 0.29069568, 1.27001725,\n",
        "2.12030965, 0.23335920, 0.01057357, 0.23164489, 0.59662604, 0.21950624, 0.40498151,\n",
        "0.05536423])\n",
        "np.mean(y)"
      ],
      "execution_count": null,
      "outputs": [
        {
          "output_type": "execute_result",
          "data": {
            "text/plain": [
              "0.7007049120000001"
            ]
          },
          "metadata": {
            "tags": []
          },
          "execution_count": 11
        }
      ]
    },
    {
      "cell_type": "code",
      "metadata": {
        "id": "9Hntb_BoC2Jg",
        "colab_type": "code",
        "colab": {
          "base_uri": "https://localhost:8080/",
          "height": 34
        },
        "outputId": "a98e1162-acd0-4fb5-e8f3-b5655b19f4e0"
      },
      "source": [
        "x = np.array([4.9, 7.0, 8.1, 4.5, 5.6, 6.8, 7.2, 5.7, 6.2])\n",
        "a = np.mean(x)\n",
        "a"
      ],
      "execution_count": null,
      "outputs": [
        {
          "output_type": "execute_result",
          "data": {
            "text/plain": [
              "6.222222222222222"
            ]
          },
          "metadata": {
            "tags": []
          },
          "execution_count": 29
        }
      ]
    },
    {
      "cell_type": "code",
      "metadata": {
        "id": "wX20hCJmND3J",
        "colab_type": "code",
        "colab": {}
      },
      "source": [
        "import math"
      ],
      "execution_count": null,
      "outputs": []
    },
    {
      "cell_type": "code",
      "metadata": {
        "id": "uoTQ-v0cLu-Q",
        "colab_type": "code",
        "colab": {
          "base_uri": "https://localhost:8080/",
          "height": 34
        },
        "outputId": "540b0371-ea7a-49bc-b393-5aa91f0a547c"
      },
      "source": [
        "std = np.sqrt(np.sum((x-x.mean())**2)/(len(x)))\n",
        "std"
      ],
      "execution_count": null,
      "outputs": [
        {
          "output_type": "execute_result",
          "data": {
            "text/plain": [
              "1.0952196915868095"
            ]
          },
          "metadata": {
            "tags": []
          },
          "execution_count": 57
        }
      ]
    },
    {
      "cell_type": "code",
      "metadata": {
        "id": "ErbxY-ZaLhH9",
        "colab_type": "code",
        "colab": {
          "base_uri": "https://localhost:8080/",
          "height": 34
        },
        "outputId": "534f6dd5-5ecf-4d0f-8e5d-73cbf8340a0c"
      },
      "source": [
        "np.std(x)"
      ],
      "execution_count": null,
      "outputs": [
        {
          "output_type": "execute_result",
          "data": {
            "text/plain": [
              "1.0952196915868095"
            ]
          },
          "metadata": {
            "tags": []
          },
          "execution_count": 27
        }
      ]
    },
    {
      "cell_type": "markdown",
      "metadata": {
        "id": "rTtfjiFSVlyj",
        "colab_type": "text"
      },
      "source": [
        "### Métodos Matemáticos:"
      ]
    },
    {
      "cell_type": "code",
      "metadata": {
        "id": "l8-0x8yNQ-x9",
        "colab_type": "code",
        "colab": {}
      },
      "source": [
        "#dando um exemplo de porque trabalhar com lista é ruim em certo casos (dá um erro)\n",
        "lista = [1,2,3,4,5]\n",
        "lista + 1"
      ],
      "execution_count": null,
      "outputs": []
    },
    {
      "cell_type": "code",
      "metadata": {
        "id": "YWaBrHZTRIaN",
        "colab_type": "code",
        "colab": {
          "base_uri": "https://localhost:8080/",
          "height": 70
        },
        "outputId": "ae4b4855-c086-46a1-e8fb-1f2163e2ca8b"
      },
      "source": [
        "#criando um array do numpy\n",
        "array = np.array([1,2,3,4,5])\n",
        "print(array + 1)\n",
        "print(array * array)\n",
        "print(array / (array + 1))"
      ],
      "execution_count": null,
      "outputs": [
        {
          "output_type": "stream",
          "text": [
            "[2 3 4 5 6]\n",
            "[ 1  4  9 16 25]\n",
            "[0.5        0.66666667 0.75       0.8        0.83333333]\n"
          ],
          "name": "stdout"
        }
      ]
    },
    {
      "cell_type": "code",
      "metadata": {
        "id": "71zE7CGuWZrA",
        "colab_type": "code",
        "colab": {
          "base_uri": "https://localhost:8080/",
          "height": 52
        },
        "outputId": "efe2a4be-43fd-4522-9648-b69176a9ea98"
      },
      "source": [
        "#criando uma matriz\n",
        "b = np.array([[1,2,3,4,5],[6,7,8,9,10]]) #,dtype='int16')\n",
        "b"
      ],
      "execution_count": null,
      "outputs": [
        {
          "output_type": "execute_result",
          "data": {
            "text/plain": [
              "array([[ 1,  2,  3,  4,  5],\n",
              "       [ 6,  7,  8,  9, 10]])"
            ]
          },
          "metadata": {
            "tags": []
          },
          "execution_count": 31
        }
      ]
    },
    {
      "cell_type": "code",
      "metadata": {
        "id": "L_S3pX4_WZyr",
        "colab_type": "code",
        "colab": {
          "base_uri": "https://localhost:8080/",
          "height": 52
        },
        "outputId": "7c42c6ca-1831-4ab9-8e1f-f31116a7df07"
      },
      "source": [
        "#dimensão do array\n",
        "print(array.ndim)\n",
        "print(b.ndim)"
      ],
      "execution_count": null,
      "outputs": [
        {
          "output_type": "stream",
          "text": [
            "1\n",
            "2\n"
          ],
          "name": "stdout"
        }
      ]
    },
    {
      "cell_type": "code",
      "metadata": {
        "id": "3ZWfzACOWZ6Q",
        "colab_type": "code",
        "colab": {
          "base_uri": "https://localhost:8080/",
          "height": 34
        },
        "outputId": "0adffb25-f39d-4b05-9654-5807cd164cc0"
      },
      "source": [
        "#quantidade de linhas e colunas da matriz\n",
        "b.shape"
      ],
      "execution_count": null,
      "outputs": [
        {
          "output_type": "execute_result",
          "data": {
            "text/plain": [
              "(2, 5)"
            ]
          },
          "metadata": {
            "tags": []
          },
          "execution_count": 10
        }
      ]
    },
    {
      "cell_type": "code",
      "metadata": {
        "id": "EXtjtC3bWZ4f",
        "colab_type": "code",
        "colab": {
          "base_uri": "https://localhost:8080/",
          "height": 34
        },
        "outputId": "d92ae977-08d5-4bbb-bda0-7bfdbb0f968d"
      },
      "source": [
        "#verificando o tipo da variável\n",
        "b.dtype"
      ],
      "execution_count": null,
      "outputs": [
        {
          "output_type": "execute_result",
          "data": {
            "text/plain": [
              "dtype('int64')"
            ]
          },
          "metadata": {
            "tags": []
          },
          "execution_count": 21
        }
      ]
    },
    {
      "cell_type": "code",
      "metadata": {
        "id": "OMrTjg7ZWZ2A",
        "colab_type": "code",
        "colab": {
          "base_uri": "https://localhost:8080/",
          "height": 34
        },
        "outputId": "211162df-64a3-4a4c-d335-f74c300a8c7c"
      },
      "source": [
        "#número de elementos da matriz\n",
        "b.size"
      ],
      "execution_count": null,
      "outputs": [
        {
          "output_type": "execute_result",
          "data": {
            "text/plain": [
              "10"
            ]
          },
          "metadata": {
            "tags": []
          },
          "execution_count": 24
        }
      ]
    },
    {
      "cell_type": "code",
      "metadata": {
        "id": "GW8RcnLdZ7TX",
        "colab_type": "code",
        "colab": {
          "base_uri": "https://localhost:8080/",
          "height": 34
        },
        "outputId": "eb88426a-c430-4868-80bb-0acd6cc35198"
      },
      "source": [
        "#número de bytes gastos para cada elemento\n",
        "b.itemsize"
      ],
      "execution_count": null,
      "outputs": [
        {
          "output_type": "execute_result",
          "data": {
            "text/plain": [
              "8"
            ]
          },
          "metadata": {
            "tags": []
          },
          "execution_count": 29
        }
      ]
    },
    {
      "cell_type": "code",
      "metadata": {
        "id": "GGsF019iZ7bz",
        "colab_type": "code",
        "colab": {
          "base_uri": "https://localhost:8080/",
          "height": 34
        },
        "outputId": "fc6a9bdc-1178-42ff-dbee-dd91e8ee288d"
      },
      "source": [
        "#número de bytes gastos para a matriz inteira\n",
        "b.nbytes"
      ],
      "execution_count": null,
      "outputs": [
        {
          "output_type": "execute_result",
          "data": {
            "text/plain": [
              "80"
            ]
          },
          "metadata": {
            "tags": []
          },
          "execution_count": 30
        }
      ]
    },
    {
      "cell_type": "code",
      "metadata": {
        "id": "iw5DOPgqZ7gN",
        "colab_type": "code",
        "colab": {
          "base_uri": "https://localhost:8080/",
          "height": 265
        },
        "outputId": "d671622e-a038-44e2-af61-79b7388451b4"
      },
      "source": [
        "#selecionando um elemento específico\n",
        "print(b)   #printando a matriz\n",
        "print('-=-'*7)\n",
        "print(b[1,2])   #selecionando o 3° elemento da segunda linha\n",
        "print('-=-'*7)\n",
        "print(b[1,-1])   #selecionando o último elemento da segunda linha\n",
        "print('-=-'*7)\n",
        "print(b[0,:])   #selecionado todos os elementos da 1° linha\n",
        "print('-=-'*7)\n",
        "print(b[:,0])   #selecionado todos os elementos da 1° coluna\n",
        "print('-=-'*7)\n",
        "print(b[0, 2:5])   #selecionando os elementos das posições 2,3,4 da 1° coluna\n",
        "print('-=-'*7)\n",
        "print(b[0, 2:5:2])   #selecionando os elementos das posições 2,3,4 da 1° coluna pulando de 2 em 2"
      ],
      "execution_count": null,
      "outputs": [
        {
          "output_type": "stream",
          "text": [
            "[[ 1  2  3  4  5]\n",
            " [ 6  7  8  9 10]]\n",
            "-=--=--=--=--=--=--=-\n",
            "8\n",
            "-=--=--=--=--=--=--=-\n",
            "10\n",
            "-=--=--=--=--=--=--=-\n",
            "[1 2 3 4 5]\n",
            "-=--=--=--=--=--=--=-\n",
            "[1 6]\n",
            "-=--=--=--=--=--=--=-\n",
            "[3 4 5]\n",
            "-=--=--=--=--=--=--=-\n",
            "[3 5]\n"
          ],
          "name": "stdout"
        }
      ]
    },
    {
      "cell_type": "code",
      "metadata": {
        "id": "qEhDJxImaj0q",
        "colab_type": "code",
        "colab": {
          "base_uri": "https://localhost:8080/",
          "height": 52
        },
        "outputId": "b7deb015-0ea7-463e-b135-04aa95a2722f"
      },
      "source": [
        "#alterando elementos da matriz\n",
        "b[1,4] = 11\n",
        "b"
      ],
      "execution_count": null,
      "outputs": [
        {
          "output_type": "execute_result",
          "data": {
            "text/plain": [
              "array([[ 1,  2,  3,  4,  5],\n",
              "       [ 6,  7,  8,  9, 11]])"
            ]
          },
          "metadata": {
            "tags": []
          },
          "execution_count": 67
        }
      ]
    },
    {
      "cell_type": "code",
      "metadata": {
        "id": "gXMhZo9uajyL",
        "colab_type": "code",
        "colab": {
          "base_uri": "https://localhost:8080/",
          "height": 70
        },
        "outputId": "19fdfb98-e682-4228-c0c7-94efb4008d23"
      },
      "source": [
        "#matriz de zeros\n",
        "np.zeros([3,5])"
      ],
      "execution_count": null,
      "outputs": [
        {
          "output_type": "execute_result",
          "data": {
            "text/plain": [
              "array([[0., 0., 0., 0., 0.],\n",
              "       [0., 0., 0., 0., 0.],\n",
              "       [0., 0., 0., 0., 0.]])"
            ]
          },
          "metadata": {
            "tags": []
          },
          "execution_count": 61
        }
      ]
    },
    {
      "cell_type": "code",
      "metadata": {
        "id": "4Z8TUvdlajvb",
        "colab_type": "code",
        "colab": {
          "base_uri": "https://localhost:8080/",
          "height": 212
        },
        "outputId": "acfe1ed4-7f4d-42e3-a4f9-3de34943c23e"
      },
      "source": [
        "#matriz de uns\n",
        "np.ones([4,2,2])"
      ],
      "execution_count": null,
      "outputs": [
        {
          "output_type": "execute_result",
          "data": {
            "text/plain": [
              "array([[[1., 1.],\n",
              "        [1., 1.]],\n",
              "\n",
              "       [[1., 1.],\n",
              "        [1., 1.]],\n",
              "\n",
              "       [[1., 1.],\n",
              "        [1., 1.]],\n",
              "\n",
              "       [[1., 1.],\n",
              "        [1., 1.]]])"
            ]
          },
          "metadata": {
            "tags": []
          },
          "execution_count": 62
        }
      ]
    },
    {
      "cell_type": "code",
      "metadata": {
        "id": "uz7fS-taZ7kS",
        "colab_type": "code",
        "colab": {
          "base_uri": "https://localhost:8080/",
          "height": 52
        },
        "outputId": "5bf06bf0-a36f-4f8c-f21f-57ad058a7cb8"
      },
      "source": [
        "#matriz com um número específico\n",
        "np.full([2,2], 44)"
      ],
      "execution_count": null,
      "outputs": [
        {
          "output_type": "execute_result",
          "data": {
            "text/plain": [
              "array([[44, 44],\n",
              "       [44, 44]])"
            ]
          },
          "metadata": {
            "tags": []
          },
          "execution_count": 65
        }
      ]
    },
    {
      "cell_type": "code",
      "metadata": {
        "id": "Sw-gO_2ziR4v",
        "colab_type": "code",
        "colab": {
          "base_uri": "https://localhost:8080/",
          "height": 105
        },
        "outputId": "527a9389-355b-4e01-8c03-2e26b9219eaa"
      },
      "source": [
        "#gerando matriz identidade\n",
        "np.identity(5)   #np.eye(5) faz a mesma coisa"
      ],
      "execution_count": null,
      "outputs": [
        {
          "output_type": "execute_result",
          "data": {
            "text/plain": [
              "array([[1., 0., 0., 0., 0.],\n",
              "       [0., 1., 0., 0., 0.],\n",
              "       [0., 0., 1., 0., 0.],\n",
              "       [0., 0., 0., 1., 0.],\n",
              "       [0., 0., 0., 0., 1.]])"
            ]
          },
          "metadata": {
            "tags": []
          },
          "execution_count": 89
        }
      ]
    },
    {
      "cell_type": "code",
      "metadata": {
        "id": "7UM--ec_iiSE",
        "colab_type": "code",
        "colab": {
          "base_uri": "https://localhost:8080/",
          "height": 70
        },
        "outputId": "47934955-354a-45a6-c3b3-5f70278ff8de"
      },
      "source": [
        "#repetir um vetor\n",
        "a = np.array([[1,2,3]])\n",
        "np.repeat(a,3,axis=0)"
      ],
      "execution_count": null,
      "outputs": [
        {
          "output_type": "execute_result",
          "data": {
            "text/plain": [
              "array([[1, 2, 3],\n",
              "       [1, 2, 3],\n",
              "       [1, 2, 3]])"
            ]
          },
          "metadata": {
            "tags": []
          },
          "execution_count": 5
        }
      ]
    },
    {
      "cell_type": "code",
      "metadata": {
        "id": "XPgQKvaSjllU",
        "colab_type": "code",
        "colab": {
          "base_uri": "https://localhost:8080/",
          "height": 34
        },
        "outputId": "9fa0d3e9-9b12-4ca0-da72-44fae8e24cff"
      },
      "source": [
        "#copiando vetores e matrizes (errado)\n",
        "c = np.array([1,2,3])\n",
        "b = c\n",
        "b[0] = 10\n",
        "print(c, b)"
      ],
      "execution_count": null,
      "outputs": [
        {
          "output_type": "stream",
          "text": [
            "[10  2  3] [10  2  3]\n"
          ],
          "name": "stdout"
        }
      ]
    },
    {
      "cell_type": "code",
      "metadata": {
        "id": "0xdMZcg8lAPZ",
        "colab_type": "code",
        "colab": {
          "base_uri": "https://localhost:8080/",
          "height": 34
        },
        "outputId": "75a1ed1d-d00a-4798-b075-8589ab409cc7"
      },
      "source": [
        "#copiando vetores e matrizes (certo)\n",
        "b = c.copy()   #c.flatten() faz a mesma coisa\n",
        "b[0] = 30\n",
        "print(c, b)"
      ],
      "execution_count": null,
      "outputs": [
        {
          "output_type": "stream",
          "text": [
            "[10  2  3] [30  2  3]\n"
          ],
          "name": "stdout"
        }
      ]
    },
    {
      "cell_type": "code",
      "metadata": {
        "id": "x3711hIxfWxx",
        "colab_type": "code",
        "colab": {
          "base_uri": "https://localhost:8080/",
          "height": 34
        },
        "outputId": "5c64bc93-cbf1-40ac-a62c-cb995fb4c5b7"
      },
      "source": [
        "#obtendo o cosseno do vetor com np.cos\n",
        "np.cos(a)"
      ],
      "execution_count": null,
      "outputs": [
        {
          "output_type": "execute_result",
          "data": {
            "text/plain": [
              "array([[ 0.54030231, -0.41614684, -0.9899925 ]])"
            ]
          },
          "metadata": {
            "tags": []
          },
          "execution_count": 127
        }
      ]
    },
    {
      "cell_type": "code",
      "metadata": {
        "id": "swl4AtOAfWu9",
        "colab_type": "code",
        "colab": {
          "base_uri": "https://localhost:8080/",
          "height": 141
        },
        "outputId": "61a17a5f-59a8-496c-c420-c7a289385132"
      },
      "source": [
        "#multiplicando matrizes com np.matmul\n",
        "a = np.ones([2,3])\n",
        "print(a)\n",
        "\n",
        "b = np.full([3,2],2)\n",
        "print(b)\n",
        "\n",
        "np.matmul(a,b)   #np.dot(a,b) faz a mesma coisa"
      ],
      "execution_count": null,
      "outputs": [
        {
          "output_type": "stream",
          "text": [
            "[[1. 1. 1.]\n",
            " [1. 1. 1.]]\n",
            "[[2 2]\n",
            " [2 2]\n",
            " [2 2]]\n"
          ],
          "name": "stdout"
        },
        {
          "output_type": "execute_result",
          "data": {
            "text/plain": [
              "array([[6., 6.],\n",
              "       [6., 6.]])"
            ]
          },
          "metadata": {
            "tags": []
          },
          "execution_count": 42
        }
      ]
    },
    {
      "cell_type": "code",
      "metadata": {
        "id": "csO9BaRMfWpH",
        "colab_type": "code",
        "colab": {
          "base_uri": "https://localhost:8080/",
          "height": 87
        },
        "outputId": "3247a893-7c2f-4951-e512-de88c7a21b5c"
      },
      "source": [
        "#achar o denterminante\n",
        "c = np.identity(3)\n",
        "print(c)\n",
        "np.linalg.det(c)"
      ],
      "execution_count": null,
      "outputs": [
        {
          "output_type": "stream",
          "text": [
            "[[1. 0. 0.]\n",
            " [0. 1. 0.]\n",
            " [0. 0. 1.]]\n"
          ],
          "name": "stdout"
        },
        {
          "output_type": "execute_result",
          "data": {
            "text/plain": [
              "1.0"
            ]
          },
          "metadata": {
            "tags": []
          },
          "execution_count": 38
        }
      ]
    },
    {
      "cell_type": "code",
      "metadata": {
        "id": "zGRpecs-oLA8",
        "colab_type": "code",
        "colab": {
          "base_uri": "https://localhost:8080/",
          "height": 141
        },
        "outputId": "f6025df0-e8d2-4884-f989-20b6f9fdb8bc"
      },
      "source": [
        "#obtendo os elementos máximos e mínimos da matriz\n",
        "stats = np.array([[1,2,7,4],[5,6,3,8]])\n",
        "print(np.min(stats))   #menor elemento da matriz\n",
        "print('-=-'*3)\n",
        "print(np.min(stats, axis=1))   #menor elemento da linha\n",
        "print('-=-'*3)\n",
        "print(np.min(stats, axis=0))   #menor elemento da coluna\n",
        "print('-=-'*3)\n",
        "print(np.max(stats))   #maior elemento da matriz"
      ],
      "execution_count": null,
      "outputs": [
        {
          "output_type": "stream",
          "text": [
            "1\n",
            "-=--=--=-\n",
            "[1 3]\n",
            "-=--=--=-\n",
            "[1 2 3 4]\n",
            "-=--=--=-\n",
            "8\n"
          ],
          "name": "stdout"
        }
      ]
    },
    {
      "cell_type": "code",
      "metadata": {
        "id": "9S99ZwlEpY2w",
        "colab_type": "code",
        "colab": {
          "base_uri": "https://localhost:8080/",
          "height": 105
        },
        "outputId": "d67b4203-b3af-4883-950b-3a9089f1aa20"
      },
      "source": [
        "#somando elementos com np.sum\n",
        "print(np.sum(stats))   #soma de todos os elementos\n",
        "print('-=-'*4)\n",
        "print(np.sum(stats, axis=1))   #soma das linhas\n",
        "print('-=-'*4)\n",
        "print(np.sum(stats, axis=0))   #soma das colunas"
      ],
      "execution_count": null,
      "outputs": [
        {
          "output_type": "stream",
          "text": [
            "36\n",
            "-=--=--=--=-\n",
            "[14 22]\n",
            "-=--=--=--=-\n",
            "[ 6  8 10 12]\n"
          ],
          "name": "stdout"
        }
      ]
    },
    {
      "cell_type": "code",
      "metadata": {
        "id": "3G4ZS6MRqNMm",
        "colab_type": "code",
        "colab": {
          "base_uri": "https://localhost:8080/",
          "height": 105
        },
        "outputId": "90335a6f-4469-479b-cd28-2a48142f45dd"
      },
      "source": [
        "#obtendo a média com np.mean\n",
        "print(np.mean(stats))  #média da matriz\n",
        "print('-=-'*5)\n",
        "print(np.mean(stats, axis=1))   #média das linhas\n",
        "print('-=-'*5)\n",
        "print(np.mean(stats, axis=0))   #média das colunas"
      ],
      "execution_count": null,
      "outputs": [
        {
          "output_type": "stream",
          "text": [
            "4.5\n",
            "-=--=--=--=--=-\n",
            "[3.5 5.5]\n",
            "-=--=--=--=--=-\n",
            "[3. 4. 5. 6.]\n"
          ],
          "name": "stdout"
        }
      ]
    },
    {
      "cell_type": "code",
      "metadata": {
        "id": "lUafRJCE_zXG",
        "colab_type": "code",
        "colab": {
          "base_uri": "https://localhost:8080/",
          "height": 52
        },
        "outputId": "2e75f69e-f0c2-4a29-8979-6d4370e64ecd"
      },
      "source": [
        "#outras estatísticas\n",
        "print('Mediana: ' + str(np.median(stats)))\n",
        "print('Desvio Padrão: ' + str(np.std(stats)))"
      ],
      "execution_count": null,
      "outputs": [
        {
          "output_type": "stream",
          "text": [
            "Mediana: 4.5\n",
            "Desvio Padrão: 2.29128784747792\n"
          ],
          "name": "stdout"
        }
      ]
    },
    {
      "cell_type": "code",
      "metadata": {
        "id": "Ac-FaE9FLQaP",
        "colab_type": "code",
        "colab": {
          "base_uri": "https://localhost:8080/",
          "height": 212
        },
        "outputId": "81b9e419-93bf-4fbc-c564-88bd1dcdc69e"
      },
      "source": [
        "#outra maneira de encotrar as estatísticas\n",
        "a = np.array([(1,2,3), (4,5,6),(7,8,9)])\n",
        "print(a.sum())  #soma todos os elementos da matriz\n",
        "print(a.max())  #pega o maior valor da matriz\n",
        "print(a.min())  #pega o menor valor da matriz\n",
        "print(a.mean())  #pega a media dos valores da matriz\n",
        "print(a.std())  #paga o desvio padrao dos valores\n",
        "print(a.cumsum())  #pega a soma acumulada dos valores\n",
        "print(np.var(a))  #pega a variancia dos dados\n",
        "print(np.prod(a))  #multiplica todos os elementos\n",
        "print(np.sqrt(a))  #pega a raiz quadrada de cada elemento"
      ],
      "execution_count": null,
      "outputs": [
        {
          "output_type": "stream",
          "text": [
            "45\n",
            "9\n",
            "1\n",
            "5.0\n",
            "2.581988897471611\n",
            "[ 1  3  6 10 15 21 28 36 45]\n",
            "6.666666666666667\n",
            "362880\n",
            "[[1.         1.41421356 1.73205081]\n",
            " [2.         2.23606798 2.44948974]\n",
            " [2.64575131 2.82842712 3.        ]]\n"
          ],
          "name": "stdout"
        }
      ]
    },
    {
      "cell_type": "markdown",
      "metadata": {
        "id": "NHaJohlNQNrP",
        "colab_type": "text"
      },
      "source": [
        "Fórmula da variância:\n",
        "\n",
        "![image.png](data:image/png;base64,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)"
      ]
    },
    {
      "cell_type": "code",
      "metadata": {
        "id": "M5raD3gaO2ND",
        "colab_type": "code",
        "colab": {
          "base_uri": "https://localhost:8080/",
          "height": 34
        },
        "outputId": "7bda9819-d1ef-450c-b8db-f5c471d93ef1"
      },
      "source": [
        "#calculando desvio padrão manualmente\n",
        "std = np.sqrt(np.mean((a-a.mean())**2))\n",
        "std"
      ],
      "execution_count": null,
      "outputs": [
        {
          "output_type": "execute_result",
          "data": {
            "text/plain": [
              "2.581988897471611"
            ]
          },
          "metadata": {
            "tags": []
          },
          "execution_count": 67
        }
      ]
    },
    {
      "cell_type": "code",
      "metadata": {
        "id": "AfDaoTzIN09s",
        "colab_type": "code",
        "colab": {
          "base_uri": "https://localhost:8080/",
          "height": 141
        },
        "outputId": "9daa119a-72c4-456b-fa22-afe6fb8a9a00"
      },
      "source": [
        "#verificando se os arrays são iguais com np.arrat_equal\n",
        "b = np.array([[1,2,3], [4,5,6], [7,8,9]],  dtype = float) #troca os valores para float\n",
        "print(a)\n",
        "print(b)\n",
        "np.array_equal(a,b) "
      ],
      "execution_count": null,
      "outputs": [
        {
          "output_type": "stream",
          "text": [
            "[[1 2 3]\n",
            " [4 5 6]\n",
            " [7 8 9]]\n",
            "[[1. 2. 3.]\n",
            " [4. 5. 6.]\n",
            " [7. 8. 9.]]\n"
          ],
          "name": "stdout"
        },
        {
          "output_type": "execute_result",
          "data": {
            "text/plain": [
              "True"
            ]
          },
          "metadata": {
            "tags": []
          },
          "execution_count": 55
        }
      ]
    },
    {
      "cell_type": "code",
      "metadata": {
        "id": "taQkUR4qOZLK",
        "colab_type": "code",
        "colab": {
          "base_uri": "https://localhost:8080/",
          "height": 70
        },
        "outputId": "c3a9ddd2-749c-4581-c075-66d41cce1801"
      },
      "source": [
        "#outros métodos\n",
        "c = np.array([1.2,3.3,7.7,9.5,9.0,6.7])\n",
        "print(np.around(c)) #arredonda os elementos de c\n",
        "print(np.repeat(c,3)) #repete os elementos da vetor 3 vezes\n",
        "print(np.tile(c,3)) #repete todos os elementos 3 vezes"
      ],
      "execution_count": null,
      "outputs": [
        {
          "output_type": "stream",
          "text": [
            "[[ 1.  3.  8. 10.  9.  7.]]\n",
            "[1.2 1.2 1.2 3.3 3.3 3.3 7.7 7.7 7.7 9.5 9.5 9.5 9.  9.  9.  6.7 6.7 6.7]\n",
            "[[1.2 3.3 7.7 9.5 9.  6.7 1.2 3.3 7.7 9.5 9.  6.7 1.2 3.3 7.7 9.5 9.  6.7]]\n"
          ],
          "name": "stdout"
        }
      ]
    },
    {
      "cell_type": "code",
      "metadata": {
        "id": "EBvsQey-PRxA",
        "colab_type": "code",
        "colab": {
          "base_uri": "https://localhost:8080/",
          "height": 52
        },
        "outputId": "98646636-fb2b-44f8-cabd-85ab12633e75"
      },
      "source": [
        "#concatenando vetores com np.concatenate\n",
        "d = np.copy(c) #copia uma array\n",
        "np.concatenate((c,d))"
      ],
      "execution_count": null,
      "outputs": [
        {
          "output_type": "execute_result",
          "data": {
            "text/plain": [
              "array([[1.2, 3.3, 7.7, 9.5, 9. , 6.7],\n",
              "       [1.2, 3.3, 7.7, 9.5, 9. , 6.7]])"
            ]
          },
          "metadata": {
            "tags": []
          },
          "execution_count": 80
        }
      ]
    },
    {
      "cell_type": "code",
      "metadata": {
        "id": "3Ai23E8NrKKF",
        "colab_type": "code",
        "colab": {
          "base_uri": "https://localhost:8080/",
          "height": 87
        },
        "outputId": "f5a10abe-09b0-4f2b-cd05-cf03581e81a5"
      },
      "source": [
        "#empilhando vetores (mesma dimensão)\n",
        "v1 = np.array([1,2,3,4,5])\n",
        "v2 = np.array([6,7,8,9,10])\n",
        "\n",
        "print(np.vstack([v1,v2,v1]))   #vertical\n",
        "print(np.hstack([v1,v2,v1]))   #horizontal"
      ],
      "execution_count": null,
      "outputs": [
        {
          "output_type": "stream",
          "text": [
            "[[ 1  2  3  4  5]\n",
            " [ 6  7  8  9 10]\n",
            " [ 1  2  3  4  5]]\n",
            "[ 1  2  3  4  5  6  7  8  9 10  1  2  3  4  5]\n"
          ],
          "name": "stdout"
        }
      ]
    },
    {
      "cell_type": "code",
      "metadata": {
        "id": "_OOEka6QsaXx",
        "colab_type": "code",
        "colab": {
          "base_uri": "https://localhost:8080/",
          "height": 87
        },
        "outputId": "97e26e9f-4dc3-4208-ce98-2e2d9c185a92"
      },
      "source": [
        "#vetor de booleanos em relação ao filtro\n",
        "data = np.array([[65,6543,257,6826,58,8543,648,54,6,8,84,355,5235663,4577,67,7,865,4,63,2,13,67,8668,5,73,634,52,526,47,447,58,89,6,85]])\n",
        "\n",
        "data > 500\n",
        "#np.any(data>500, axis=0)   #verificando se tem algum na 1° linha"
      ],
      "execution_count": null,
      "outputs": [
        {
          "output_type": "execute_result",
          "data": {
            "text/plain": [
              "array([[False,  True, False,  True, False,  True,  True, False, False,\n",
              "        False, False, False,  True,  True, False, False,  True, False,\n",
              "        False, False, False, False,  True, False, False,  True, False,\n",
              "         True, False, False, False, False, False, False]])"
            ]
          },
          "metadata": {
            "tags": []
          },
          "execution_count": 169
        }
      ]
    },
    {
      "cell_type": "code",
      "metadata": {
        "id": "q6CsKnamtGux",
        "colab_type": "code",
        "colab": {
          "base_uri": "https://localhost:8080/",
          "height": 52
        },
        "outputId": "dc3fab03-0686-4eb8-bf32-82822f1d735b"
      },
      "source": [
        "#selecionado extadamentos os valores filtrados\n",
        "data[data>500]"
      ],
      "execution_count": null,
      "outputs": [
        {
          "output_type": "execute_result",
          "data": {
            "text/plain": [
              "array([   6543,    6826,    8543,     648, 5235663,    4577,     865,\n",
              "          8668,     634,     526])"
            ]
          },
          "metadata": {
            "tags": []
          },
          "execution_count": 156
        }
      ]
    },
    {
      "cell_type": "code",
      "metadata": {
        "id": "TIT0ESGFudWz",
        "colab_type": "code",
        "colab": {
          "base_uri": "https://localhost:8080/",
          "height": 105
        },
        "outputId": "db486c93-d640-41c7-c592-5de50627104a"
      },
      "source": [
        "#filtrando com duas restrições (com ~ na frente você nega a afirmação)\n",
        "data[(data>500) & (data<1000)]   #&: and;  |: or"
      ],
      "execution_count": null,
      "outputs": [
        {
          "output_type": "execute_result",
          "data": {
            "text/plain": [
              "array([     65,    6543,     257,    6826,      58,    8543,     648,\n",
              "            54,       6,       8,      84,     355, 5235663,    4577,\n",
              "            67,       7,     865,       4,      63,       2,      13,\n",
              "            67,    8668,       5,      73,     634,      52,     526,\n",
              "            47,     447,      58,      89,       6,      85])"
            ]
          },
          "metadata": {
            "tags": []
          },
          "execution_count": 173
        }
      ]
    },
    {
      "cell_type": "code",
      "metadata": {
        "id": "MvHLPxc1KU2C",
        "colab_type": "code",
        "colab": {
          "base_uri": "https://localhost:8080/",
          "height": 70
        },
        "outputId": "15dc0684-9b73-4bdb-d610-67fdf2c37dec"
      },
      "source": [
        "#cria uma matriz com 1,4,7 na diagonal com np.diag\n",
        "np.diag(np.array([1,4,7])) "
      ],
      "execution_count": null,
      "outputs": [
        {
          "output_type": "execute_result",
          "data": {
            "text/plain": [
              "array([[1, 0, 0],\n",
              "       [0, 4, 0],\n",
              "       [0, 0, 7]])"
            ]
          },
          "metadata": {
            "tags": []
          },
          "execution_count": 47
        }
      ]
    },
    {
      "cell_type": "code",
      "metadata": {
        "id": "44Zl4_GFKrlV",
        "colab_type": "code",
        "colab": {
          "base_uri": "https://localhost:8080/",
          "height": 52
        },
        "outputId": "addbe9fc-0add-4ca6-cce6-afbc65e8d18c"
      },
      "source": [
        "#gera uma matriz igualmente distribuida no intervalo [0,5] com 10 elementos com np.linspace\n",
        "np.linspace(0,5,10) "
      ],
      "execution_count": null,
      "outputs": [
        {
          "output_type": "execute_result",
          "data": {
            "text/plain": [
              "array([0.        , 0.55555556, 1.11111111, 1.66666667, 2.22222222,\n",
              "       2.77777778, 3.33333333, 3.88888889, 4.44444444, 5.        ])"
            ]
          },
          "metadata": {
            "tags": []
          },
          "execution_count": 48
        }
      ]
    },
    {
      "cell_type": "code",
      "metadata": {
        "id": "hllwA_2yK3oF",
        "colab_type": "code",
        "colab": {
          "base_uri": "https://localhost:8080/",
          "height": 70
        },
        "outputId": "53ad66a7-5cc7-4273-b4ac-8b4ad320ff08"
      },
      "source": [
        "#versao log da linspace com np.logspace\n",
        "np.logspace(0,5,10) "
      ],
      "execution_count": null,
      "outputs": [
        {
          "output_type": "execute_result",
          "data": {
            "text/plain": [
              "array([1.00000000e+00, 3.59381366e+00, 1.29154967e+01, 4.64158883e+01,\n",
              "       1.66810054e+02, 5.99484250e+02, 2.15443469e+03, 7.74263683e+03,\n",
              "       2.78255940e+04, 1.00000000e+05])"
            ]
          },
          "metadata": {
            "tags": []
          },
          "execution_count": 49
        }
      ]
    },
    {
      "cell_type": "markdown",
      "metadata": {
        "id": "4TI95yPKS4KZ",
        "colab_type": "text"
      },
      "source": [
        "### Métodos Aleatórios:"
      ]
    },
    {
      "cell_type": "code",
      "metadata": {
        "id": "Sd-hhaSWRBu4",
        "colab_type": "code",
        "colab": {}
      },
      "source": [
        "#trava os resultados na seed com np.random.seed (sempre vem os mesmo resultados aleatórios)\n",
        "np.random.seed(999) "
      ],
      "execution_count": null,
      "outputs": []
    },
    {
      "cell_type": "code",
      "metadata": {
        "id": "1aTU-bjwfWre",
        "colab_type": "code",
        "colab": {
          "base_uri": "https://localhost:8080/",
          "height": 70
        },
        "outputId": "7055b29e-3bab-42d2-94ea-b583da71ac38"
      },
      "source": [
        "#gerando números aleatórios entre 0 e 1 com random.rand\n",
        "np.random.rand(3,3)   #np.random.random([3,3]) faz a mesma coisa"
      ],
      "execution_count": null,
      "outputs": [
        {
          "output_type": "execute_result",
          "data": {
            "text/plain": [
              "array([[0.69739294, 0.78994969, 0.13189035],\n",
              "       [0.34277045, 0.20155961, 0.70732423],\n",
              "       [0.03339926, 0.90925004, 0.40516066]])"
            ]
          },
          "metadata": {
            "tags": []
          },
          "execution_count": 101
        }
      ]
    },
    {
      "cell_type": "code",
      "metadata": {
        "id": "5yuMkhOQIeYT",
        "colab_type": "code",
        "colab": {
          "base_uri": "https://localhost:8080/",
          "height": 212
        },
        "outputId": "10c79778-c14c-414b-d373-61a96db3025b"
      },
      "source": [
        "#gerando uma matriz aleatória com np.random.randn\n",
        "np.random.randn(3,3,3)"
      ],
      "execution_count": null,
      "outputs": [
        {
          "output_type": "execute_result",
          "data": {
            "text/plain": [
              "array([[[-0.03437933,  0.1639619 ,  2.336782  ],\n",
              "        [ 0.58137184, -0.83934704, -0.13182037],\n",
              "        [-0.79118355,  0.63946031,  0.0175486 ]],\n",
              "\n",
              "       [[ 0.082035  , -0.32610762,  0.24261331],\n",
              "        [ 0.79901009, -0.07519843,  0.08350938],\n",
              "        [-0.30707912, -1.54299242, -0.89344399]],\n",
              "\n",
              "       [[ 0.48500646, -0.50018391, -2.02472795],\n",
              "        [-0.41260533,  1.27804609, -0.76851699],\n",
              "        [ 1.38554848,  1.20628741,  0.72456453]]])"
            ]
          },
          "metadata": {
            "tags": []
          },
          "execution_count": 94
        }
      ]
    },
    {
      "cell_type": "code",
      "metadata": {
        "id": "oegXn4PqhMui",
        "colab_type": "code",
        "colab": {
          "base_uri": "https://localhost:8080/",
          "height": 70
        },
        "outputId": "794e9d58-589a-473f-d8f2-ba308d25b7eb"
      },
      "source": [
        "#gerando números inteiros aleatórios com random.randint\n",
        "np.random.randint(5,16,[3,3])   #gerando uma matriz 3x3 de números inteiros aleatórios entre [5,16["
      ],
      "execution_count": null,
      "outputs": [
        {
          "output_type": "execute_result",
          "data": {
            "text/plain": [
              "array([[ 6, 11,  6],\n",
              "       [10, 11, 11],\n",
              "       [ 7, 11,  9]])"
            ]
          },
          "metadata": {
            "tags": []
          },
          "execution_count": 8
        }
      ]
    },
    {
      "cell_type": "code",
      "metadata": {
        "id": "MNVLn5dBJ23_",
        "colab_type": "code",
        "colab": {
          "base_uri": "https://localhost:8080/",
          "height": 87
        },
        "outputId": "d92228fd-fb6b-4245-8500-6a34a6dafeef"
      },
      "source": [
        "#cria um vetor com (inicio,fim,salto) com np.arrange\n",
        "print(np.arange(0.0, 12.8, 2.4))\n",
        "print(np.arange(0,100,2))"
      ],
      "execution_count": null,
      "outputs": [
        {
          "output_type": "stream",
          "text": [
            "[ 0.   2.4  4.8  7.2  9.6 12. ]\n",
            "[ 0  2  4  6  8 10 12 14 16 18 20 22 24 26 28 30 32 34 36 38 40 42 44 46\n",
            " 48 50 52 54 56 58 60 62 64 66 68 70 72 74 76 78 80 82 84 86 88 90 92 94\n",
            " 96 98]\n"
          ],
          "name": "stdout"
        }
      ]
    },
    {
      "cell_type": "code",
      "metadata": {
        "id": "LtATmfqXQ5X4",
        "colab_type": "code",
        "colab": {
          "base_uri": "https://localhost:8080/",
          "height": 52
        },
        "outputId": "c9ca35a0-7e8f-4dca-8aad-c8480027463a"
      },
      "source": [
        "#sorteando elementos com random.choice\n",
        "cores = ['amarelo','vermelho','azul','verde']\n",
        "print(np.random.choice(cores,3))\n",
        "print(np.random.choice(cores,3))"
      ],
      "execution_count": null,
      "outputs": [
        {
          "output_type": "stream",
          "text": [
            "['amarelo' 'amarelo' 'vermelho']\n",
            "['verde' 'azul' 'verde']\n"
          ],
          "name": "stdout"
        }
      ]
    },
    {
      "cell_type": "code",
      "metadata": {
        "id": "TwJHi818VPzV",
        "colab_type": "code",
        "colab": {
          "base_uri": "https://localhost:8080/",
          "height": 34
        },
        "outputId": "bcbbd02d-e327-4d53-9c56-32c17ed52c9e"
      },
      "source": [
        "#embaralhando a lista/array com np.random.shuffle\n",
        "np.random.shuffle(cores) \n",
        "cores"
      ],
      "execution_count": null,
      "outputs": [
        {
          "output_type": "execute_result",
          "data": {
            "text/plain": [
              "['azul', 'amarelo', 'verde', 'vermelho']"
            ]
          },
          "metadata": {
            "tags": []
          },
          "execution_count": 129
        }
      ]
    },
    {
      "cell_type": "code",
      "metadata": {
        "id": "TW4XjzE7Q5YH",
        "colab_type": "code",
        "colab": {
          "base_uri": "https://localhost:8080/",
          "height": 34
        },
        "outputId": "59afd5d4-d305-4f2b-a1ec-d910f388922f"
      },
      "source": [
        "#gerando uma amostra aleatória normal com random.normal\n",
        "np.random.normal(0,1,5)   #0:média, 1:vaiância, 5:tamanho da amostra"
      ],
      "execution_count": null,
      "outputs": [
        {
          "output_type": "execute_result",
          "data": {
            "text/plain": [
              "array([-0.85990661,  1.77260763, -1.11036305,  0.18121427,  0.56434487])"
            ]
          },
          "metadata": {
            "tags": []
          },
          "execution_count": 112
        }
      ]
    },
    {
      "cell_type": "code",
      "metadata": {
        "id": "2yGluk3XQ5YM",
        "colab_type": "code",
        "colab": {},
        "outputId": "b487c84f-d6ef-4267-8c83-99ea11c1948d"
      },
      "source": [
        "#gerando uma amostra aleatória exponencial com random.exponential\n",
        "np.random.exponential(2,5)     #2:parâmetro, 5:tamanho da amostra"
      ],
      "execution_count": null,
      "outputs": [
        {
          "output_type": "execute_result",
          "data": {
            "text/plain": [
              "array([1.77601736, 1.67156274, 2.78338935, 0.27428756, 2.16108723])"
            ]
          },
          "metadata": {
            "tags": []
          },
          "execution_count": 59
        }
      ]
    },
    {
      "cell_type": "code",
      "metadata": {
        "id": "_y7GBwYvTKCf",
        "colab_type": "code",
        "colab": {
          "base_uri": "https://localhost:8080/",
          "height": 34
        },
        "outputId": "9df61ad7-ec38-453b-a95c-5ba63fd484e9"
      },
      "source": [
        "#gerando uma amostra aleatória uniforme com random.uniform\n",
        "np.random.uniform(0,4,5)    #0 e 4 são os parametros da uniforme, 5 é o tamanho da amostra"
      ],
      "execution_count": null,
      "outputs": [
        {
          "output_type": "execute_result",
          "data": {
            "text/plain": [
              "array([3.57842665, 0.34017685, 0.15621913, 0.67932168, 3.51257001])"
            ]
          },
          "metadata": {
            "tags": []
          },
          "execution_count": 114
        }
      ]
    }
  ]
}